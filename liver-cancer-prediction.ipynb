{
 "cells": [
  {
   "cell_type": "code",
   "execution_count": 1,
   "id": "e03590f3",
   "metadata": {
    "execution": {
     "iopub.execute_input": "2025-03-11T18:55:13.245017Z",
     "iopub.status.busy": "2025-03-11T18:55:13.244751Z",
     "iopub.status.idle": "2025-03-11T18:55:16.784837Z",
     "shell.execute_reply": "2025-03-11T18:55:16.783826Z"
    },
    "papermill": {
     "duration": 3.547408,
     "end_time": "2025-03-11T18:55:16.786312",
     "exception": false,
     "start_time": "2025-03-11T18:55:13.238904",
     "status": "completed"
    },
    "tags": []
   },
   "outputs": [],
   "source": [
    "import pandas as pd\n",
    "import numpy as np \n",
    "import matplotlib.pyplot as plt\n",
    "import seaborn as sns\n",
    "from sklearn.model_selection import train_test_split\n",
    "from sklearn.preprocessing import LabelEncoder, OrdinalEncoder\n",
    "from sklearn.tree import DecisionTreeClassifier\n",
    "from sklearn.metrics import accuracy_score, classification_report, confusion_matrix\n",
    "import warnings\n",
    "warnings.filterwarnings(\"ignore\")"
   ]
  },
  {
   "cell_type": "code",
   "execution_count": 2,
   "id": "f624f36f",
   "metadata": {
    "execution": {
     "iopub.execute_input": "2025-03-11T18:55:16.796506Z",
     "iopub.status.busy": "2025-03-11T18:55:16.796044Z",
     "iopub.status.idle": "2025-03-11T18:55:17.673035Z",
     "shell.execute_reply": "2025-03-11T18:55:17.672180Z"
    },
    "papermill": {
     "duration": 0.883258,
     "end_time": "2025-03-11T18:55:17.674266",
     "exception": false,
     "start_time": "2025-03-11T18:55:16.791008",
     "status": "completed"
    },
    "tags": []
   },
   "outputs": [
    {
     "data": {
      "text/html": [
       "<div>\n",
       "<style scoped>\n",
       "    .dataframe tbody tr th:only-of-type {\n",
       "        vertical-align: middle;\n",
       "    }\n",
       "\n",
       "    .dataframe tbody tr th {\n",
       "        vertical-align: top;\n",
       "    }\n",
       "\n",
       "    .dataframe thead th {\n",
       "        text-align: right;\n",
       "    }\n",
       "</style>\n",
       "<table border=\"1\" class=\"dataframe\">\n",
       "  <thead>\n",
       "    <tr style=\"text-align: right;\">\n",
       "      <th></th>\n",
       "      <th>Country</th>\n",
       "      <th>Region</th>\n",
       "      <th>Population</th>\n",
       "      <th>Incidence_Rate</th>\n",
       "      <th>Mortality_Rate</th>\n",
       "      <th>Gender</th>\n",
       "      <th>Age</th>\n",
       "      <th>Alcohol_Consumption</th>\n",
       "      <th>Smoking_Status</th>\n",
       "      <th>Hepatitis_B_Status</th>\n",
       "      <th>...</th>\n",
       "      <th>Herbal_Medicine_Use</th>\n",
       "      <th>Healthcare_Access</th>\n",
       "      <th>Screening_Availability</th>\n",
       "      <th>Treatment_Availability</th>\n",
       "      <th>Liver_Transplant_Access</th>\n",
       "      <th>Ethnicity</th>\n",
       "      <th>Preventive_Care</th>\n",
       "      <th>Survival_Rate</th>\n",
       "      <th>Cost_of_Treatment</th>\n",
       "      <th>Prediction</th>\n",
       "    </tr>\n",
       "  </thead>\n",
       "  <tbody>\n",
       "    <tr>\n",
       "      <th>0</th>\n",
       "      <td>Nigeria</td>\n",
       "      <td>Sub-Saharan Africa</td>\n",
       "      <td>340672131</td>\n",
       "      <td>15.381360</td>\n",
       "      <td>6.160480</td>\n",
       "      <td>Male</td>\n",
       "      <td>81</td>\n",
       "      <td>Low</td>\n",
       "      <td>Smoker</td>\n",
       "      <td>Negative</td>\n",
       "      <td>...</td>\n",
       "      <td>No</td>\n",
       "      <td>Poor</td>\n",
       "      <td>Available</td>\n",
       "      <td>Available</td>\n",
       "      <td>No</td>\n",
       "      <td>Hispanic</td>\n",
       "      <td>Good</td>\n",
       "      <td>17.724793</td>\n",
       "      <td>47486.167423</td>\n",
       "      <td>Yes</td>\n",
       "    </tr>\n",
       "    <tr>\n",
       "      <th>1</th>\n",
       "      <td>United Kingdom</td>\n",
       "      <td>Europe</td>\n",
       "      <td>1054632817</td>\n",
       "      <td>3.306101</td>\n",
       "      <td>14.392985</td>\n",
       "      <td>Male</td>\n",
       "      <td>87</td>\n",
       "      <td>Low</td>\n",
       "      <td>Smoker</td>\n",
       "      <td>Negative</td>\n",
       "      <td>...</td>\n",
       "      <td>Yes</td>\n",
       "      <td>Good</td>\n",
       "      <td>Available</td>\n",
       "      <td>Not Available</td>\n",
       "      <td>No</td>\n",
       "      <td>Mixed</td>\n",
       "      <td>Moderate</td>\n",
       "      <td>19.558853</td>\n",
       "      <td>13782.265151</td>\n",
       "      <td>No</td>\n",
       "    </tr>\n",
       "    <tr>\n",
       "      <th>2</th>\n",
       "      <td>India</td>\n",
       "      <td>South Asia</td>\n",
       "      <td>751241440</td>\n",
       "      <td>9.325053</td>\n",
       "      <td>12.777878</td>\n",
       "      <td>Male</td>\n",
       "      <td>34</td>\n",
       "      <td>Moderate</td>\n",
       "      <td>Smoker</td>\n",
       "      <td>Negative</td>\n",
       "      <td>...</td>\n",
       "      <td>No</td>\n",
       "      <td>Good</td>\n",
       "      <td>Not Available</td>\n",
       "      <td>Not Available</td>\n",
       "      <td>No</td>\n",
       "      <td>Mixed</td>\n",
       "      <td>Moderate</td>\n",
       "      <td>68.468892</td>\n",
       "      <td>25308.034132</td>\n",
       "      <td>No</td>\n",
       "    </tr>\n",
       "    <tr>\n",
       "      <th>3</th>\n",
       "      <td>Colombia</td>\n",
       "      <td>South America</td>\n",
       "      <td>1167333367</td>\n",
       "      <td>9.399658</td>\n",
       "      <td>8.634609</td>\n",
       "      <td>Male</td>\n",
       "      <td>63</td>\n",
       "      <td>Low</td>\n",
       "      <td>Non-Smoker</td>\n",
       "      <td>Positive</td>\n",
       "      <td>...</td>\n",
       "      <td>No</td>\n",
       "      <td>Good</td>\n",
       "      <td>Not Available</td>\n",
       "      <td>Not Available</td>\n",
       "      <td>Yes</td>\n",
       "      <td>Hispanic</td>\n",
       "      <td>Moderate</td>\n",
       "      <td>18.200287</td>\n",
       "      <td>38221.622202</td>\n",
       "      <td>No</td>\n",
       "    </tr>\n",
       "    <tr>\n",
       "      <th>4</th>\n",
       "      <td>Iran</td>\n",
       "      <td>Middle East</td>\n",
       "      <td>1082070787</td>\n",
       "      <td>9.665663</td>\n",
       "      <td>12.422518</td>\n",
       "      <td>Male</td>\n",
       "      <td>85</td>\n",
       "      <td>High</td>\n",
       "      <td>Non-Smoker</td>\n",
       "      <td>Positive</td>\n",
       "      <td>...</td>\n",
       "      <td>Yes</td>\n",
       "      <td>Moderate</td>\n",
       "      <td>Available</td>\n",
       "      <td>Available</td>\n",
       "      <td>Yes</td>\n",
       "      <td>Mixed</td>\n",
       "      <td>Moderate</td>\n",
       "      <td>45.019153</td>\n",
       "      <td>26765.301404</td>\n",
       "      <td>No</td>\n",
       "    </tr>\n",
       "  </tbody>\n",
       "</table>\n",
       "<p>5 rows × 25 columns</p>\n",
       "</div>"
      ],
      "text/plain": [
       "          Country              Region  Population  Incidence_Rate  \\\n",
       "0         Nigeria  Sub-Saharan Africa   340672131       15.381360   \n",
       "1  United Kingdom              Europe  1054632817        3.306101   \n",
       "2           India          South Asia   751241440        9.325053   \n",
       "3        Colombia       South America  1167333367        9.399658   \n",
       "4            Iran         Middle East  1082070787        9.665663   \n",
       "\n",
       "   Mortality_Rate Gender  Age Alcohol_Consumption Smoking_Status  \\\n",
       "0        6.160480   Male   81                 Low         Smoker   \n",
       "1       14.392985   Male   87                 Low         Smoker   \n",
       "2       12.777878   Male   34            Moderate         Smoker   \n",
       "3        8.634609   Male   63                 Low     Non-Smoker   \n",
       "4       12.422518   Male   85                High     Non-Smoker   \n",
       "\n",
       "  Hepatitis_B_Status  ... Herbal_Medicine_Use Healthcare_Access  \\\n",
       "0           Negative  ...                  No              Poor   \n",
       "1           Negative  ...                 Yes              Good   \n",
       "2           Negative  ...                  No              Good   \n",
       "3           Positive  ...                  No              Good   \n",
       "4           Positive  ...                 Yes          Moderate   \n",
       "\n",
       "  Screening_Availability Treatment_Availability Liver_Transplant_Access  \\\n",
       "0              Available              Available                      No   \n",
       "1              Available          Not Available                      No   \n",
       "2          Not Available          Not Available                      No   \n",
       "3          Not Available          Not Available                     Yes   \n",
       "4              Available              Available                     Yes   \n",
       "\n",
       "  Ethnicity Preventive_Care Survival_Rate Cost_of_Treatment Prediction  \n",
       "0  Hispanic            Good     17.724793      47486.167423        Yes  \n",
       "1     Mixed        Moderate     19.558853      13782.265151         No  \n",
       "2     Mixed        Moderate     68.468892      25308.034132         No  \n",
       "3  Hispanic        Moderate     18.200287      38221.622202         No  \n",
       "4     Mixed        Moderate     45.019153      26765.301404         No  \n",
       "\n",
       "[5 rows x 25 columns]"
      ]
     },
     "execution_count": 2,
     "metadata": {},
     "output_type": "execute_result"
    }
   ],
   "source": [
    "df = pd.read_csv(\"/kaggle/input/liver-cancer-predictions/liver_cancer_prediction.csv\")\n",
    "df.head()"
   ]
  },
  {
   "cell_type": "code",
   "execution_count": 3,
   "id": "79a66da1",
   "metadata": {
    "execution": {
     "iopub.execute_input": "2025-03-11T18:55:17.684030Z",
     "iopub.status.busy": "2025-03-11T18:55:17.683761Z",
     "iopub.status.idle": "2025-03-11T18:55:17.688098Z",
     "shell.execute_reply": "2025-03-11T18:55:17.687307Z"
    },
    "papermill": {
     "duration": 0.010416,
     "end_time": "2025-03-11T18:55:17.689259",
     "exception": false,
     "start_time": "2025-03-11T18:55:17.678843",
     "status": "completed"
    },
    "tags": []
   },
   "outputs": [
    {
     "data": {
      "text/plain": [
       "(160292, 25)"
      ]
     },
     "execution_count": 3,
     "metadata": {},
     "output_type": "execute_result"
    }
   ],
   "source": [
    "df.shape"
   ]
  },
  {
   "cell_type": "code",
   "execution_count": 4,
   "id": "f69ed4a9",
   "metadata": {
    "execution": {
     "iopub.execute_input": "2025-03-11T18:55:17.699413Z",
     "iopub.status.busy": "2025-03-11T18:55:17.699186Z",
     "iopub.status.idle": "2025-03-11T18:55:17.821522Z",
     "shell.execute_reply": "2025-03-11T18:55:17.820518Z"
    },
    "papermill": {
     "duration": 0.128924,
     "end_time": "2025-03-11T18:55:17.823066",
     "exception": false,
     "start_time": "2025-03-11T18:55:17.694142",
     "status": "completed"
    },
    "tags": []
   },
   "outputs": [
    {
     "name": "stdout",
     "output_type": "stream",
     "text": [
      "<class 'pandas.core.frame.DataFrame'>\n",
      "RangeIndex: 160292 entries, 0 to 160291\n",
      "Data columns (total 25 columns):\n",
      " #   Column                   Non-Null Count   Dtype  \n",
      "---  ------                   --------------   -----  \n",
      " 0   Country                  160292 non-null  object \n",
      " 1   Region                   160292 non-null  object \n",
      " 2   Population               160292 non-null  int64  \n",
      " 3   Incidence_Rate           160292 non-null  float64\n",
      " 4   Mortality_Rate           160292 non-null  float64\n",
      " 5   Gender                   160292 non-null  object \n",
      " 6   Age                      160292 non-null  int64  \n",
      " 7   Alcohol_Consumption      160292 non-null  object \n",
      " 8   Smoking_Status           160292 non-null  object \n",
      " 9   Hepatitis_B_Status       160292 non-null  object \n",
      " 10  Hepatitis_C_Status       160292 non-null  object \n",
      " 11  Obesity                  160292 non-null  object \n",
      " 12  Diabetes                 160292 non-null  object \n",
      " 13  Rural_or_Urban           160292 non-null  object \n",
      " 14  Seafood_Consumption      160292 non-null  object \n",
      " 15  Herbal_Medicine_Use      160292 non-null  object \n",
      " 16  Healthcare_Access        160292 non-null  object \n",
      " 17  Screening_Availability   160292 non-null  object \n",
      " 18  Treatment_Availability   160292 non-null  object \n",
      " 19  Liver_Transplant_Access  160292 non-null  object \n",
      " 20  Ethnicity                160292 non-null  object \n",
      " 21  Preventive_Care          160292 non-null  object \n",
      " 22  Survival_Rate            160292 non-null  float64\n",
      " 23  Cost_of_Treatment        160292 non-null  float64\n",
      " 24  Prediction               160292 non-null  object \n",
      "dtypes: float64(4), int64(2), object(19)\n",
      "memory usage: 30.6+ MB\n"
     ]
    }
   ],
   "source": [
    "df.info()"
   ]
  },
  {
   "cell_type": "markdown",
   "id": "99529a69",
   "metadata": {
    "papermill": {
     "duration": 0.004488,
     "end_time": "2025-03-11T18:55:17.834359",
     "exception": false,
     "start_time": "2025-03-11T18:55:17.829871",
     "status": "completed"
    },
    "tags": []
   },
   "source": [
    "As you see above, the code has many 'object' type variables which the model is unable to use this type of variable for prediction, so we need to convert this variables to 'int' types."
   ]
  },
  {
   "cell_type": "code",
   "execution_count": 5,
   "id": "a6b81285",
   "metadata": {
    "execution": {
     "iopub.execute_input": "2025-03-11T18:55:17.844846Z",
     "iopub.status.busy": "2025-03-11T18:55:17.844469Z",
     "iopub.status.idle": "2025-03-11T18:55:17.946925Z",
     "shell.execute_reply": "2025-03-11T18:55:17.946124Z"
    },
    "papermill": {
     "duration": 0.109081,
     "end_time": "2025-03-11T18:55:17.948063",
     "exception": false,
     "start_time": "2025-03-11T18:55:17.838982",
     "status": "completed"
    },
    "tags": []
   },
   "outputs": [
    {
     "data": {
      "text/plain": [
       "Country                    0\n",
       "Region                     0\n",
       "Population                 0\n",
       "Incidence_Rate             0\n",
       "Mortality_Rate             0\n",
       "Gender                     0\n",
       "Age                        0\n",
       "Alcohol_Consumption        0\n",
       "Smoking_Status             0\n",
       "Hepatitis_B_Status         0\n",
       "Hepatitis_C_Status         0\n",
       "Obesity                    0\n",
       "Diabetes                   0\n",
       "Rural_or_Urban             0\n",
       "Seafood_Consumption        0\n",
       "Herbal_Medicine_Use        0\n",
       "Healthcare_Access          0\n",
       "Screening_Availability     0\n",
       "Treatment_Availability     0\n",
       "Liver_Transplant_Access    0\n",
       "Ethnicity                  0\n",
       "Preventive_Care            0\n",
       "Survival_Rate              0\n",
       "Cost_of_Treatment          0\n",
       "Prediction                 0\n",
       "dtype: int64"
      ]
     },
     "execution_count": 5,
     "metadata": {},
     "output_type": "execute_result"
    }
   ],
   "source": [
    "# Check if there are duplicate variables\n",
    "df.isna().sum()"
   ]
  },
  {
   "cell_type": "code",
   "execution_count": 6,
   "id": "886b3eef",
   "metadata": {
    "execution": {
     "iopub.execute_input": "2025-03-11T18:55:17.958478Z",
     "iopub.status.busy": "2025-03-11T18:55:17.958187Z",
     "iopub.status.idle": "2025-03-11T18:55:18.121901Z",
     "shell.execute_reply": "2025-03-11T18:55:18.120862Z"
    },
    "papermill": {
     "duration": 0.170144,
     "end_time": "2025-03-11T18:55:18.123086",
     "exception": false,
     "start_time": "2025-03-11T18:55:17.952942",
     "status": "completed"
    },
    "tags": []
   },
   "outputs": [
    {
     "data": {
      "text/plain": [
       "0"
      ]
     },
     "execution_count": 6,
     "metadata": {},
     "output_type": "execute_result"
    }
   ],
   "source": [
    "# Checks the sum of all duplicate values\n",
    "df.duplicated().sum()"
   ]
  },
  {
   "cell_type": "code",
   "execution_count": 7,
   "id": "4de4b9a3",
   "metadata": {
    "execution": {
     "iopub.execute_input": "2025-03-11T18:55:18.133820Z",
     "iopub.status.busy": "2025-03-11T18:55:18.133472Z",
     "iopub.status.idle": "2025-03-11T18:55:18.273687Z",
     "shell.execute_reply": "2025-03-11T18:55:18.272942Z"
    },
    "papermill": {
     "duration": 0.147063,
     "end_time": "2025-03-11T18:55:18.275165",
     "exception": false,
     "start_time": "2025-03-11T18:55:18.128102",
     "status": "completed"
    },
    "tags": []
   },
   "outputs": [
    {
     "data": {
      "text/plain": [
       "Country                        30\n",
       "Region                         10\n",
       "Population                 160288\n",
       "Incidence_Rate             160292\n",
       "Mortality_Rate             160292\n",
       "Gender                          2\n",
       "Age                            70\n",
       "Alcohol_Consumption             3\n",
       "Smoking_Status                  2\n",
       "Hepatitis_B_Status              2\n",
       "Hepatitis_C_Status              2\n",
       "Obesity                         4\n",
       "Diabetes                        2\n",
       "Rural_or_Urban                  2\n",
       "Seafood_Consumption             3\n",
       "Herbal_Medicine_Use             2\n",
       "Healthcare_Access               3\n",
       "Screening_Availability          2\n",
       "Treatment_Availability          2\n",
       "Liver_Transplant_Access         2\n",
       "Ethnicity                       5\n",
       "Preventive_Care                 3\n",
       "Survival_Rate              160292\n",
       "Cost_of_Treatment          160292\n",
       "Prediction                      2\n",
       "dtype: int64"
      ]
     },
     "execution_count": 7,
     "metadata": {},
     "output_type": "execute_result"
    }
   ],
   "source": [
    "# Checks the unique values of the features\n",
    "df.nunique()"
   ]
  },
  {
   "cell_type": "code",
   "execution_count": 8,
   "id": "43e25d72",
   "metadata": {
    "execution": {
     "iopub.execute_input": "2025-03-11T18:55:18.287528Z",
     "iopub.status.busy": "2025-03-11T18:55:18.287248Z",
     "iopub.status.idle": "2025-03-11T18:55:18.301099Z",
     "shell.execute_reply": "2025-03-11T18:55:18.300269Z"
    },
    "papermill": {
     "duration": 0.021538,
     "end_time": "2025-03-11T18:55:18.302501",
     "exception": false,
     "start_time": "2025-03-11T18:55:18.280963",
     "status": "completed"
    },
    "tags": []
   },
   "outputs": [
    {
     "data": {
      "text/plain": [
       "Prediction\n",
       "No     120270\n",
       "Yes     40022\n",
       "Name: count, dtype: int64"
      ]
     },
     "execution_count": 8,
     "metadata": {},
     "output_type": "execute_result"
    }
   ],
   "source": [
    "df['Prediction'].value_counts()"
   ]
  },
  {
   "cell_type": "markdown",
   "id": "f249b07a",
   "metadata": {
    "papermill": {
     "duration": 0.004789,
     "end_time": "2025-03-11T18:55:18.312513",
     "exception": false,
     "start_time": "2025-03-11T18:55:18.307724",
     "status": "completed"
    },
    "tags": []
   },
   "source": [
    "# Under Sampling treatment"
   ]
  },
  {
   "cell_type": "markdown",
   "id": "4674b2e8",
   "metadata": {
    "papermill": {
     "duration": 0.004563,
     "end_time": "2025-03-11T18:55:18.322090",
     "exception": false,
     "start_time": "2025-03-11T18:55:18.317527",
     "status": "completed"
    },
    "tags": []
   },
   "source": [
    "There are too many samples in the Prediction target variable, we need to remove a bit of the excessive data and use only the necessary data for the prediction"
   ]
  },
  {
   "cell_type": "code",
   "execution_count": 9,
   "id": "24d9d526",
   "metadata": {
    "execution": {
     "iopub.execute_input": "2025-03-11T18:55:18.333105Z",
     "iopub.status.busy": "2025-03-11T18:55:18.332813Z",
     "iopub.status.idle": "2025-03-11T18:55:18.373838Z",
     "shell.execute_reply": "2025-03-11T18:55:18.373039Z"
    },
    "papermill": {
     "duration": 0.048246,
     "end_time": "2025-03-11T18:55:18.375173",
     "exception": false,
     "start_time": "2025-03-11T18:55:18.326927",
     "status": "completed"
    },
    "tags": []
   },
   "outputs": [
    {
     "data": {
      "text/plain": [
       "40022"
      ]
     },
     "execution_count": 9,
     "metadata": {},
     "output_type": "execute_result"
    }
   ],
   "source": [
    "# Let's undersample the 'No' result in the Prediction variable\n",
    "df_0 = df[df['Prediction']=='No'][:df['Prediction'].value_counts()[1]].reset_index()\n",
    "len(df_0)"
   ]
  },
  {
   "cell_type": "code",
   "execution_count": 10,
   "id": "1ab67e1f",
   "metadata": {
    "execution": {
     "iopub.execute_input": "2025-03-11T18:55:18.386278Z",
     "iopub.status.busy": "2025-03-11T18:55:18.385985Z",
     "iopub.status.idle": "2025-03-11T18:55:18.417190Z",
     "shell.execute_reply": "2025-03-11T18:55:18.416316Z"
    },
    "papermill": {
     "duration": 0.03812,
     "end_time": "2025-03-11T18:55:18.418546",
     "exception": false,
     "start_time": "2025-03-11T18:55:18.380426",
     "status": "completed"
    },
    "tags": []
   },
   "outputs": [
    {
     "data": {
      "text/plain": [
       "Prediction\n",
       "Yes    40022\n",
       "No     40022\n",
       "Name: count, dtype: int64"
      ]
     },
     "execution_count": 10,
     "metadata": {},
     "output_type": "execute_result"
    }
   ],
   "source": [
    "# Now let's do the same for the 'Yes' value\n",
    "df_1 = df[df['Prediction']==\"Yes\"].reset_index()\n",
    "df = pd.concat([df_1, df_0],axis=0)\n",
    "df['Prediction'].value_counts()"
   ]
  },
  {
   "cell_type": "code",
   "execution_count": 11,
   "id": "5de0c2ea",
   "metadata": {
    "execution": {
     "iopub.execute_input": "2025-03-11T18:55:18.430141Z",
     "iopub.status.busy": "2025-03-11T18:55:18.429855Z",
     "iopub.status.idle": "2025-03-11T18:55:18.457450Z",
     "shell.execute_reply": "2025-03-11T18:55:18.456409Z"
    },
    "papermill": {
     "duration": 0.034583,
     "end_time": "2025-03-11T18:55:18.458743",
     "exception": false,
     "start_time": "2025-03-11T18:55:18.424160",
     "status": "completed"
    },
    "tags": []
   },
   "outputs": [
    {
     "data": {
      "text/html": [
       "<div>\n",
       "<style scoped>\n",
       "    .dataframe tbody tr th:only-of-type {\n",
       "        vertical-align: middle;\n",
       "    }\n",
       "\n",
       "    .dataframe tbody tr th {\n",
       "        vertical-align: top;\n",
       "    }\n",
       "\n",
       "    .dataframe thead th {\n",
       "        text-align: right;\n",
       "    }\n",
       "</style>\n",
       "<table border=\"1\" class=\"dataframe\">\n",
       "  <thead>\n",
       "    <tr style=\"text-align: right;\">\n",
       "      <th></th>\n",
       "      <th>Country</th>\n",
       "      <th>Region</th>\n",
       "      <th>Population</th>\n",
       "      <th>Incidence_Rate</th>\n",
       "      <th>Mortality_Rate</th>\n",
       "      <th>Gender</th>\n",
       "      <th>Age</th>\n",
       "      <th>Alcohol_Consumption</th>\n",
       "      <th>Smoking_Status</th>\n",
       "      <th>Hepatitis_B_Status</th>\n",
       "      <th>...</th>\n",
       "      <th>Herbal_Medicine_Use</th>\n",
       "      <th>Healthcare_Access</th>\n",
       "      <th>Screening_Availability</th>\n",
       "      <th>Treatment_Availability</th>\n",
       "      <th>Liver_Transplant_Access</th>\n",
       "      <th>Ethnicity</th>\n",
       "      <th>Preventive_Care</th>\n",
       "      <th>Survival_Rate</th>\n",
       "      <th>Cost_of_Treatment</th>\n",
       "      <th>Prediction</th>\n",
       "    </tr>\n",
       "  </thead>\n",
       "  <tbody>\n",
       "    <tr>\n",
       "      <th>0</th>\n",
       "      <td>Nigeria</td>\n",
       "      <td>Sub-Saharan Africa</td>\n",
       "      <td>340672131</td>\n",
       "      <td>15.381360</td>\n",
       "      <td>6.160480</td>\n",
       "      <td>Male</td>\n",
       "      <td>81</td>\n",
       "      <td>Low</td>\n",
       "      <td>Smoker</td>\n",
       "      <td>Negative</td>\n",
       "      <td>...</td>\n",
       "      <td>No</td>\n",
       "      <td>Poor</td>\n",
       "      <td>Available</td>\n",
       "      <td>Available</td>\n",
       "      <td>No</td>\n",
       "      <td>Hispanic</td>\n",
       "      <td>Good</td>\n",
       "      <td>17.724793</td>\n",
       "      <td>47486.167423</td>\n",
       "      <td>Yes</td>\n",
       "    </tr>\n",
       "    <tr>\n",
       "      <th>1</th>\n",
       "      <td>Russia</td>\n",
       "      <td>Europe</td>\n",
       "      <td>199661331</td>\n",
       "      <td>2.558179</td>\n",
       "      <td>2.853576</td>\n",
       "      <td>Female</td>\n",
       "      <td>26</td>\n",
       "      <td>High</td>\n",
       "      <td>Smoker</td>\n",
       "      <td>Negative</td>\n",
       "      <td>...</td>\n",
       "      <td>Yes</td>\n",
       "      <td>Good</td>\n",
       "      <td>Not Available</td>\n",
       "      <td>Available</td>\n",
       "      <td>No</td>\n",
       "      <td>African</td>\n",
       "      <td>Moderate</td>\n",
       "      <td>70.343535</td>\n",
       "      <td>22372.868376</td>\n",
       "      <td>Yes</td>\n",
       "    </tr>\n",
       "    <tr>\n",
       "      <th>2</th>\n",
       "      <td>Pakistan</td>\n",
       "      <td>South Asia</td>\n",
       "      <td>250747461</td>\n",
       "      <td>2.306748</td>\n",
       "      <td>1.979092</td>\n",
       "      <td>Female</td>\n",
       "      <td>51</td>\n",
       "      <td>Moderate</td>\n",
       "      <td>Smoker</td>\n",
       "      <td>Positive</td>\n",
       "      <td>...</td>\n",
       "      <td>Yes</td>\n",
       "      <td>Good</td>\n",
       "      <td>Not Available</td>\n",
       "      <td>Not Available</td>\n",
       "      <td>No</td>\n",
       "      <td>Hispanic</td>\n",
       "      <td>Moderate</td>\n",
       "      <td>31.998948</td>\n",
       "      <td>34678.734550</td>\n",
       "      <td>Yes</td>\n",
       "    </tr>\n",
       "    <tr>\n",
       "      <th>3</th>\n",
       "      <td>Spain</td>\n",
       "      <td>Europe</td>\n",
       "      <td>1064536069</td>\n",
       "      <td>27.817193</td>\n",
       "      <td>3.956064</td>\n",
       "      <td>Male</td>\n",
       "      <td>24</td>\n",
       "      <td>Moderate</td>\n",
       "      <td>Non-Smoker</td>\n",
       "      <td>Negative</td>\n",
       "      <td>...</td>\n",
       "      <td>Yes</td>\n",
       "      <td>Moderate</td>\n",
       "      <td>Available</td>\n",
       "      <td>Available</td>\n",
       "      <td>No</td>\n",
       "      <td>Asian</td>\n",
       "      <td>Moderate</td>\n",
       "      <td>17.351788</td>\n",
       "      <td>33694.359070</td>\n",
       "      <td>Yes</td>\n",
       "    </tr>\n",
       "    <tr>\n",
       "      <th>4</th>\n",
       "      <td>China</td>\n",
       "      <td>Eastern Asia</td>\n",
       "      <td>13915613</td>\n",
       "      <td>4.843548</td>\n",
       "      <td>22.344428</td>\n",
       "      <td>Female</td>\n",
       "      <td>73</td>\n",
       "      <td>Low</td>\n",
       "      <td>Non-Smoker</td>\n",
       "      <td>Negative</td>\n",
       "      <td>...</td>\n",
       "      <td>No</td>\n",
       "      <td>Good</td>\n",
       "      <td>Not Available</td>\n",
       "      <td>Available</td>\n",
       "      <td>No</td>\n",
       "      <td>Asian</td>\n",
       "      <td>Moderate</td>\n",
       "      <td>38.051629</td>\n",
       "      <td>6036.999043</td>\n",
       "      <td>Yes</td>\n",
       "    </tr>\n",
       "  </tbody>\n",
       "</table>\n",
       "<p>5 rows × 25 columns</p>\n",
       "</div>"
      ],
      "text/plain": [
       "    Country              Region  Population  Incidence_Rate  Mortality_Rate  \\\n",
       "0   Nigeria  Sub-Saharan Africa   340672131       15.381360        6.160480   \n",
       "1    Russia              Europe   199661331        2.558179        2.853576   \n",
       "2  Pakistan          South Asia   250747461        2.306748        1.979092   \n",
       "3     Spain              Europe  1064536069       27.817193        3.956064   \n",
       "4     China        Eastern Asia    13915613        4.843548       22.344428   \n",
       "\n",
       "   Gender  Age Alcohol_Consumption Smoking_Status Hepatitis_B_Status  ...  \\\n",
       "0    Male   81                 Low         Smoker           Negative  ...   \n",
       "1  Female   26                High         Smoker           Negative  ...   \n",
       "2  Female   51            Moderate         Smoker           Positive  ...   \n",
       "3    Male   24            Moderate     Non-Smoker           Negative  ...   \n",
       "4  Female   73                 Low     Non-Smoker           Negative  ...   \n",
       "\n",
       "  Herbal_Medicine_Use Healthcare_Access Screening_Availability  \\\n",
       "0                  No              Poor              Available   \n",
       "1                 Yes              Good          Not Available   \n",
       "2                 Yes              Good          Not Available   \n",
       "3                 Yes          Moderate              Available   \n",
       "4                  No              Good          Not Available   \n",
       "\n",
       "  Treatment_Availability Liver_Transplant_Access Ethnicity Preventive_Care  \\\n",
       "0              Available                      No  Hispanic            Good   \n",
       "1              Available                      No   African        Moderate   \n",
       "2          Not Available                      No  Hispanic        Moderate   \n",
       "3              Available                      No     Asian        Moderate   \n",
       "4              Available                      No     Asian        Moderate   \n",
       "\n",
       "  Survival_Rate Cost_of_Treatment Prediction  \n",
       "0     17.724793      47486.167423        Yes  \n",
       "1     70.343535      22372.868376        Yes  \n",
       "2     31.998948      34678.734550        Yes  \n",
       "3     17.351788      33694.359070        Yes  \n",
       "4     38.051629       6036.999043        Yes  \n",
       "\n",
       "[5 rows x 25 columns]"
      ]
     },
     "execution_count": 11,
     "metadata": {},
     "output_type": "execute_result"
    }
   ],
   "source": [
    "# Now that the amount of 'No' and 'Yes' values of the features are the same, we need to insert this values on the dataset\n",
    "df.drop('index',axis=1,inplace=True)\n",
    "df.head()"
   ]
  },
  {
   "cell_type": "markdown",
   "id": "bf37b98d",
   "metadata": {
    "papermill": {
     "duration": 0.004977,
     "end_time": "2025-03-11T18:55:18.469454",
     "exception": false,
     "start_time": "2025-03-11T18:55:18.464477",
     "status": "completed"
    },
    "tags": []
   },
   "source": [
    "# Target Encoding"
   ]
  },
  {
   "cell_type": "code",
   "execution_count": 12,
   "id": "45f1e189",
   "metadata": {
    "execution": {
     "iopub.execute_input": "2025-03-11T18:55:18.480502Z",
     "iopub.status.busy": "2025-03-11T18:55:18.480233Z",
     "iopub.status.idle": "2025-03-11T18:55:18.499750Z",
     "shell.execute_reply": "2025-03-11T18:55:18.498801Z"
    },
    "papermill": {
     "duration": 0.026529,
     "end_time": "2025-03-11T18:55:18.501035",
     "exception": false,
     "start_time": "2025-03-11T18:55:18.474506",
     "status": "completed"
    },
    "tags": []
   },
   "outputs": [
    {
     "data": {
      "text/html": [
       "<div>\n",
       "<style scoped>\n",
       "    .dataframe tbody tr th:only-of-type {\n",
       "        vertical-align: middle;\n",
       "    }\n",
       "\n",
       "    .dataframe tbody tr th {\n",
       "        vertical-align: top;\n",
       "    }\n",
       "\n",
       "    .dataframe thead th {\n",
       "        text-align: right;\n",
       "    }\n",
       "</style>\n",
       "<table border=\"1\" class=\"dataframe\">\n",
       "  <thead>\n",
       "    <tr style=\"text-align: right;\">\n",
       "      <th></th>\n",
       "      <th>Country</th>\n",
       "      <th>Region</th>\n",
       "      <th>Population</th>\n",
       "      <th>Incidence_Rate</th>\n",
       "      <th>Mortality_Rate</th>\n",
       "      <th>Gender</th>\n",
       "      <th>Age</th>\n",
       "      <th>Alcohol_Consumption</th>\n",
       "      <th>Smoking_Status</th>\n",
       "      <th>Hepatitis_B_Status</th>\n",
       "      <th>...</th>\n",
       "      <th>Herbal_Medicine_Use</th>\n",
       "      <th>Healthcare_Access</th>\n",
       "      <th>Screening_Availability</th>\n",
       "      <th>Treatment_Availability</th>\n",
       "      <th>Liver_Transplant_Access</th>\n",
       "      <th>Ethnicity</th>\n",
       "      <th>Preventive_Care</th>\n",
       "      <th>Survival_Rate</th>\n",
       "      <th>Cost_of_Treatment</th>\n",
       "      <th>Prediction</th>\n",
       "    </tr>\n",
       "  </thead>\n",
       "  <tbody>\n",
       "    <tr>\n",
       "      <th>0</th>\n",
       "      <td>Nigeria</td>\n",
       "      <td>Sub-Saharan Africa</td>\n",
       "      <td>340672131</td>\n",
       "      <td>15.381360</td>\n",
       "      <td>6.160480</td>\n",
       "      <td>Male</td>\n",
       "      <td>81</td>\n",
       "      <td>Low</td>\n",
       "      <td>Smoker</td>\n",
       "      <td>Negative</td>\n",
       "      <td>...</td>\n",
       "      <td>No</td>\n",
       "      <td>Poor</td>\n",
       "      <td>Available</td>\n",
       "      <td>Available</td>\n",
       "      <td>No</td>\n",
       "      <td>Hispanic</td>\n",
       "      <td>Good</td>\n",
       "      <td>17.724793</td>\n",
       "      <td>47486.167423</td>\n",
       "      <td>1</td>\n",
       "    </tr>\n",
       "    <tr>\n",
       "      <th>1</th>\n",
       "      <td>Russia</td>\n",
       "      <td>Europe</td>\n",
       "      <td>199661331</td>\n",
       "      <td>2.558179</td>\n",
       "      <td>2.853576</td>\n",
       "      <td>Female</td>\n",
       "      <td>26</td>\n",
       "      <td>High</td>\n",
       "      <td>Smoker</td>\n",
       "      <td>Negative</td>\n",
       "      <td>...</td>\n",
       "      <td>Yes</td>\n",
       "      <td>Good</td>\n",
       "      <td>Not Available</td>\n",
       "      <td>Available</td>\n",
       "      <td>No</td>\n",
       "      <td>African</td>\n",
       "      <td>Moderate</td>\n",
       "      <td>70.343535</td>\n",
       "      <td>22372.868376</td>\n",
       "      <td>1</td>\n",
       "    </tr>\n",
       "    <tr>\n",
       "      <th>2</th>\n",
       "      <td>Pakistan</td>\n",
       "      <td>South Asia</td>\n",
       "      <td>250747461</td>\n",
       "      <td>2.306748</td>\n",
       "      <td>1.979092</td>\n",
       "      <td>Female</td>\n",
       "      <td>51</td>\n",
       "      <td>Moderate</td>\n",
       "      <td>Smoker</td>\n",
       "      <td>Positive</td>\n",
       "      <td>...</td>\n",
       "      <td>Yes</td>\n",
       "      <td>Good</td>\n",
       "      <td>Not Available</td>\n",
       "      <td>Not Available</td>\n",
       "      <td>No</td>\n",
       "      <td>Hispanic</td>\n",
       "      <td>Moderate</td>\n",
       "      <td>31.998948</td>\n",
       "      <td>34678.734550</td>\n",
       "      <td>1</td>\n",
       "    </tr>\n",
       "    <tr>\n",
       "      <th>3</th>\n",
       "      <td>Spain</td>\n",
       "      <td>Europe</td>\n",
       "      <td>1064536069</td>\n",
       "      <td>27.817193</td>\n",
       "      <td>3.956064</td>\n",
       "      <td>Male</td>\n",
       "      <td>24</td>\n",
       "      <td>Moderate</td>\n",
       "      <td>Non-Smoker</td>\n",
       "      <td>Negative</td>\n",
       "      <td>...</td>\n",
       "      <td>Yes</td>\n",
       "      <td>Moderate</td>\n",
       "      <td>Available</td>\n",
       "      <td>Available</td>\n",
       "      <td>No</td>\n",
       "      <td>Asian</td>\n",
       "      <td>Moderate</td>\n",
       "      <td>17.351788</td>\n",
       "      <td>33694.359070</td>\n",
       "      <td>1</td>\n",
       "    </tr>\n",
       "    <tr>\n",
       "      <th>4</th>\n",
       "      <td>China</td>\n",
       "      <td>Eastern Asia</td>\n",
       "      <td>13915613</td>\n",
       "      <td>4.843548</td>\n",
       "      <td>22.344428</td>\n",
       "      <td>Female</td>\n",
       "      <td>73</td>\n",
       "      <td>Low</td>\n",
       "      <td>Non-Smoker</td>\n",
       "      <td>Negative</td>\n",
       "      <td>...</td>\n",
       "      <td>No</td>\n",
       "      <td>Good</td>\n",
       "      <td>Not Available</td>\n",
       "      <td>Available</td>\n",
       "      <td>No</td>\n",
       "      <td>Asian</td>\n",
       "      <td>Moderate</td>\n",
       "      <td>38.051629</td>\n",
       "      <td>6036.999043</td>\n",
       "      <td>1</td>\n",
       "    </tr>\n",
       "  </tbody>\n",
       "</table>\n",
       "<p>5 rows × 25 columns</p>\n",
       "</div>"
      ],
      "text/plain": [
       "    Country              Region  Population  Incidence_Rate  Mortality_Rate  \\\n",
       "0   Nigeria  Sub-Saharan Africa   340672131       15.381360        6.160480   \n",
       "1    Russia              Europe   199661331        2.558179        2.853576   \n",
       "2  Pakistan          South Asia   250747461        2.306748        1.979092   \n",
       "3     Spain              Europe  1064536069       27.817193        3.956064   \n",
       "4     China        Eastern Asia    13915613        4.843548       22.344428   \n",
       "\n",
       "   Gender  Age Alcohol_Consumption Smoking_Status Hepatitis_B_Status  ...  \\\n",
       "0    Male   81                 Low         Smoker           Negative  ...   \n",
       "1  Female   26                High         Smoker           Negative  ...   \n",
       "2  Female   51            Moderate         Smoker           Positive  ...   \n",
       "3    Male   24            Moderate     Non-Smoker           Negative  ...   \n",
       "4  Female   73                 Low     Non-Smoker           Negative  ...   \n",
       "\n",
       "  Herbal_Medicine_Use Healthcare_Access Screening_Availability  \\\n",
       "0                  No              Poor              Available   \n",
       "1                 Yes              Good          Not Available   \n",
       "2                 Yes              Good          Not Available   \n",
       "3                 Yes          Moderate              Available   \n",
       "4                  No              Good          Not Available   \n",
       "\n",
       "  Treatment_Availability Liver_Transplant_Access Ethnicity Preventive_Care  \\\n",
       "0              Available                      No  Hispanic            Good   \n",
       "1              Available                      No   African        Moderate   \n",
       "2          Not Available                      No  Hispanic        Moderate   \n",
       "3              Available                      No     Asian        Moderate   \n",
       "4              Available                      No     Asian        Moderate   \n",
       "\n",
       "  Survival_Rate Cost_of_Treatment Prediction  \n",
       "0     17.724793      47486.167423          1  \n",
       "1     70.343535      22372.868376          1  \n",
       "2     31.998948      34678.734550          1  \n",
       "3     17.351788      33694.359070          1  \n",
       "4     38.051629       6036.999043          1  \n",
       "\n",
       "[5 rows x 25 columns]"
      ]
     },
     "execution_count": 12,
     "metadata": {},
     "output_type": "execute_result"
    }
   ],
   "source": [
    "df['Prediction'] = df['Prediction'].map({'Yes': 1, 'No': 0})\n",
    "df.head()"
   ]
  },
  {
   "cell_type": "code",
   "execution_count": 13,
   "id": "7c04fdb2",
   "metadata": {
    "execution": {
     "iopub.execute_input": "2025-03-11T18:55:18.513495Z",
     "iopub.status.busy": "2025-03-11T18:55:18.513159Z",
     "iopub.status.idle": "2025-03-11T18:55:18.587608Z",
     "shell.execute_reply": "2025-03-11T18:55:18.586874Z"
    },
    "papermill": {
     "duration": 0.081855,
     "end_time": "2025-03-11T18:55:18.588748",
     "exception": false,
     "start_time": "2025-03-11T18:55:18.506893",
     "status": "completed"
    },
    "tags": []
   },
   "outputs": [
    {
     "name": "stdout",
     "output_type": "stream",
     "text": [
      "Preprocessing complete. Data is ready for modeling.\n"
     ]
    }
   ],
   "source": [
    "# Seperate the features and target\n",
    "X = df.drop(columns=['Prediction'])\n",
    "y = df['Prediction']\n",
    "\n",
    "# Seperates the categorical columns of the features\n",
    "categorical_columns = [#'Country', #'Region', #'Gender', \n",
    "    'Alcohol_Consumption', #'Smoking_Status',\n",
    "       #'Hepatitis_B_Status', 'Hepatitis_C_Status', \n",
    "    'Obesity', #'Diabetes',\n",
    "       #'Rural_or_Urban', \n",
    "    'Seafood_Consumption', #'Herbal_Medicine_Use',\n",
    "       'Healthcare_Access', #'Screening_Availability', 'Treatment_Availability',\n",
    "       #'Liver_Transplant_Access', 'Ethnicity', 'Preventive_Care'\n",
    "]\n",
    "# Encodes the features into the categorical columns of the dataset\n",
    "ordinal_encoder = OrdinalEncoder(handle_unknown='use_encoded_value', unknown_value=-1)\n",
    "X[categorical_columns] = ordinal_encoder.fit_transform(X[categorical_columns])\n",
    "\n",
    "# One-hot encoding of the \n",
    "X['Country'] = X['Country'].map(X['Country'].value_counts())\n",
    "X['Region'] = X['Region'].map(X['Region'].value_counts())\n",
    "\n",
    "\n",
    "print(\"Preprocessing complete. Data is ready for modeling.\")"
   ]
  },
  {
   "cell_type": "code",
   "execution_count": 14,
   "id": "ebd31eb1",
   "metadata": {
    "execution": {
     "iopub.execute_input": "2025-03-11T18:55:18.601248Z",
     "iopub.status.busy": "2025-03-11T18:55:18.600901Z",
     "iopub.status.idle": "2025-03-11T18:55:18.617594Z",
     "shell.execute_reply": "2025-03-11T18:55:18.616847Z"
    },
    "papermill": {
     "duration": 0.024446,
     "end_time": "2025-03-11T18:55:18.619058",
     "exception": false,
     "start_time": "2025-03-11T18:55:18.594612",
     "status": "completed"
    },
    "tags": []
   },
   "outputs": [
    {
     "data": {
      "text/html": [
       "<div>\n",
       "<style scoped>\n",
       "    .dataframe tbody tr th:only-of-type {\n",
       "        vertical-align: middle;\n",
       "    }\n",
       "\n",
       "    .dataframe tbody tr th {\n",
       "        vertical-align: top;\n",
       "    }\n",
       "\n",
       "    .dataframe thead th {\n",
       "        text-align: right;\n",
       "    }\n",
       "</style>\n",
       "<table border=\"1\" class=\"dataframe\">\n",
       "  <thead>\n",
       "    <tr style=\"text-align: right;\">\n",
       "      <th></th>\n",
       "      <th>Country</th>\n",
       "      <th>Region</th>\n",
       "      <th>Population</th>\n",
       "      <th>Incidence_Rate</th>\n",
       "      <th>Mortality_Rate</th>\n",
       "      <th>Gender</th>\n",
       "      <th>Age</th>\n",
       "      <th>Alcohol_Consumption</th>\n",
       "      <th>Smoking_Status</th>\n",
       "      <th>Hepatitis_B_Status</th>\n",
       "      <th>...</th>\n",
       "      <th>Seafood_Consumption</th>\n",
       "      <th>Herbal_Medicine_Use</th>\n",
       "      <th>Healthcare_Access</th>\n",
       "      <th>Screening_Availability</th>\n",
       "      <th>Treatment_Availability</th>\n",
       "      <th>Liver_Transplant_Access</th>\n",
       "      <th>Ethnicity</th>\n",
       "      <th>Preventive_Care</th>\n",
       "      <th>Survival_Rate</th>\n",
       "      <th>Cost_of_Treatment</th>\n",
       "    </tr>\n",
       "  </thead>\n",
       "  <tbody>\n",
       "    <tr>\n",
       "      <th>0</th>\n",
       "      <td>2658</td>\n",
       "      <td>16065</td>\n",
       "      <td>340672131</td>\n",
       "      <td>15.381360</td>\n",
       "      <td>6.160480</td>\n",
       "      <td>Male</td>\n",
       "      <td>81</td>\n",
       "      <td>1.0</td>\n",
       "      <td>Smoker</td>\n",
       "      <td>Negative</td>\n",
       "      <td>...</td>\n",
       "      <td>2.0</td>\n",
       "      <td>No</td>\n",
       "      <td>2.0</td>\n",
       "      <td>Available</td>\n",
       "      <td>Available</td>\n",
       "      <td>No</td>\n",
       "      <td>Hispanic</td>\n",
       "      <td>Good</td>\n",
       "      <td>17.724793</td>\n",
       "      <td>47486.167423</td>\n",
       "    </tr>\n",
       "    <tr>\n",
       "      <th>1</th>\n",
       "      <td>2655</td>\n",
       "      <td>16004</td>\n",
       "      <td>199661331</td>\n",
       "      <td>2.558179</td>\n",
       "      <td>2.853576</td>\n",
       "      <td>Female</td>\n",
       "      <td>26</td>\n",
       "      <td>0.0</td>\n",
       "      <td>Smoker</td>\n",
       "      <td>Negative</td>\n",
       "      <td>...</td>\n",
       "      <td>2.0</td>\n",
       "      <td>Yes</td>\n",
       "      <td>0.0</td>\n",
       "      <td>Not Available</td>\n",
       "      <td>Available</td>\n",
       "      <td>No</td>\n",
       "      <td>African</td>\n",
       "      <td>Moderate</td>\n",
       "      <td>70.343535</td>\n",
       "      <td>22372.868376</td>\n",
       "    </tr>\n",
       "    <tr>\n",
       "      <th>2</th>\n",
       "      <td>2688</td>\n",
       "      <td>8021</td>\n",
       "      <td>250747461</td>\n",
       "      <td>2.306748</td>\n",
       "      <td>1.979092</td>\n",
       "      <td>Female</td>\n",
       "      <td>51</td>\n",
       "      <td>2.0</td>\n",
       "      <td>Smoker</td>\n",
       "      <td>Positive</td>\n",
       "      <td>...</td>\n",
       "      <td>2.0</td>\n",
       "      <td>Yes</td>\n",
       "      <td>0.0</td>\n",
       "      <td>Not Available</td>\n",
       "      <td>Not Available</td>\n",
       "      <td>No</td>\n",
       "      <td>Hispanic</td>\n",
       "      <td>Moderate</td>\n",
       "      <td>31.998948</td>\n",
       "      <td>34678.734550</td>\n",
       "    </tr>\n",
       "    <tr>\n",
       "      <th>3</th>\n",
       "      <td>2681</td>\n",
       "      <td>16004</td>\n",
       "      <td>1064536069</td>\n",
       "      <td>27.817193</td>\n",
       "      <td>3.956064</td>\n",
       "      <td>Male</td>\n",
       "      <td>24</td>\n",
       "      <td>2.0</td>\n",
       "      <td>Non-Smoker</td>\n",
       "      <td>Negative</td>\n",
       "      <td>...</td>\n",
       "      <td>1.0</td>\n",
       "      <td>Yes</td>\n",
       "      <td>1.0</td>\n",
       "      <td>Available</td>\n",
       "      <td>Available</td>\n",
       "      <td>No</td>\n",
       "      <td>Asian</td>\n",
       "      <td>Moderate</td>\n",
       "      <td>17.351788</td>\n",
       "      <td>33694.359070</td>\n",
       "    </tr>\n",
       "    <tr>\n",
       "      <th>4</th>\n",
       "      <td>2632</td>\n",
       "      <td>7933</td>\n",
       "      <td>13915613</td>\n",
       "      <td>4.843548</td>\n",
       "      <td>22.344428</td>\n",
       "      <td>Female</td>\n",
       "      <td>73</td>\n",
       "      <td>1.0</td>\n",
       "      <td>Non-Smoker</td>\n",
       "      <td>Negative</td>\n",
       "      <td>...</td>\n",
       "      <td>2.0</td>\n",
       "      <td>No</td>\n",
       "      <td>0.0</td>\n",
       "      <td>Not Available</td>\n",
       "      <td>Available</td>\n",
       "      <td>No</td>\n",
       "      <td>Asian</td>\n",
       "      <td>Moderate</td>\n",
       "      <td>38.051629</td>\n",
       "      <td>6036.999043</td>\n",
       "    </tr>\n",
       "  </tbody>\n",
       "</table>\n",
       "<p>5 rows × 24 columns</p>\n",
       "</div>"
      ],
      "text/plain": [
       "   Country  Region  Population  Incidence_Rate  Mortality_Rate  Gender  Age  \\\n",
       "0     2658   16065   340672131       15.381360        6.160480    Male   81   \n",
       "1     2655   16004   199661331        2.558179        2.853576  Female   26   \n",
       "2     2688    8021   250747461        2.306748        1.979092  Female   51   \n",
       "3     2681   16004  1064536069       27.817193        3.956064    Male   24   \n",
       "4     2632    7933    13915613        4.843548       22.344428  Female   73   \n",
       "\n",
       "   Alcohol_Consumption Smoking_Status Hepatitis_B_Status  ...  \\\n",
       "0                  1.0         Smoker           Negative  ...   \n",
       "1                  0.0         Smoker           Negative  ...   \n",
       "2                  2.0         Smoker           Positive  ...   \n",
       "3                  2.0     Non-Smoker           Negative  ...   \n",
       "4                  1.0     Non-Smoker           Negative  ...   \n",
       "\n",
       "  Seafood_Consumption  Herbal_Medicine_Use Healthcare_Access  \\\n",
       "0                 2.0                   No               2.0   \n",
       "1                 2.0                  Yes               0.0   \n",
       "2                 2.0                  Yes               0.0   \n",
       "3                 1.0                  Yes               1.0   \n",
       "4                 2.0                   No               0.0   \n",
       "\n",
       "  Screening_Availability  Treatment_Availability Liver_Transplant_Access  \\\n",
       "0              Available               Available                      No   \n",
       "1          Not Available               Available                      No   \n",
       "2          Not Available           Not Available                      No   \n",
       "3              Available               Available                      No   \n",
       "4          Not Available               Available                      No   \n",
       "\n",
       "   Ethnicity Preventive_Care Survival_Rate Cost_of_Treatment  \n",
       "0   Hispanic            Good     17.724793      47486.167423  \n",
       "1    African        Moderate     70.343535      22372.868376  \n",
       "2   Hispanic        Moderate     31.998948      34678.734550  \n",
       "3      Asian        Moderate     17.351788      33694.359070  \n",
       "4      Asian        Moderate     38.051629       6036.999043  \n",
       "\n",
       "[5 rows x 24 columns]"
      ]
     },
     "execution_count": 14,
     "metadata": {},
     "output_type": "execute_result"
    }
   ],
   "source": [
    "X.head()"
   ]
  },
  {
   "cell_type": "code",
   "execution_count": 15,
   "id": "3e9ac3cf",
   "metadata": {
    "execution": {
     "iopub.execute_input": "2025-03-11T18:55:18.631952Z",
     "iopub.status.busy": "2025-03-11T18:55:18.631673Z",
     "iopub.status.idle": "2025-03-11T18:55:18.634672Z",
     "shell.execute_reply": "2025-03-11T18:55:18.633989Z"
    },
    "papermill": {
     "duration": 0.010275,
     "end_time": "2025-03-11T18:55:18.635755",
     "exception": false,
     "start_time": "2025-03-11T18:55:18.625480",
     "status": "completed"
    },
    "tags": []
   },
   "outputs": [],
   "source": [
    "le = LabelEncoder()"
   ]
  },
  {
   "cell_type": "code",
   "execution_count": 16,
   "id": "c55ec7e8",
   "metadata": {
    "execution": {
     "iopub.execute_input": "2025-03-11T18:55:18.648670Z",
     "iopub.status.busy": "2025-03-11T18:55:18.648339Z",
     "iopub.status.idle": "2025-03-11T18:55:18.680074Z",
     "shell.execute_reply": "2025-03-11T18:55:18.679243Z"
    },
    "papermill": {
     "duration": 0.039552,
     "end_time": "2025-03-11T18:55:18.681513",
     "exception": false,
     "start_time": "2025-03-11T18:55:18.641961",
     "status": "completed"
    },
    "tags": []
   },
   "outputs": [],
   "source": [
    "# Seperates the categorical features and numerical features\n",
    "df_cat = X.select_dtypes(include='object')\n",
    "df_num = X.select_dtypes(exclude='object')"
   ]
  },
  {
   "cell_type": "code",
   "execution_count": 17,
   "id": "b5759226",
   "metadata": {
    "execution": {
     "iopub.execute_input": "2025-03-11T18:55:18.694459Z",
     "iopub.status.busy": "2025-03-11T18:55:18.694166Z",
     "iopub.status.idle": "2025-03-11T18:55:18.705471Z",
     "shell.execute_reply": "2025-03-11T18:55:18.704419Z"
    },
    "papermill": {
     "duration": 0.018912,
     "end_time": "2025-03-11T18:55:18.706646",
     "exception": false,
     "start_time": "2025-03-11T18:55:18.687734",
     "status": "completed"
    },
    "tags": []
   },
   "outputs": [
    {
     "data": {
      "text/html": [
       "<div>\n",
       "<style scoped>\n",
       "    .dataframe tbody tr th:only-of-type {\n",
       "        vertical-align: middle;\n",
       "    }\n",
       "\n",
       "    .dataframe tbody tr th {\n",
       "        vertical-align: top;\n",
       "    }\n",
       "\n",
       "    .dataframe thead th {\n",
       "        text-align: right;\n",
       "    }\n",
       "</style>\n",
       "<table border=\"1\" class=\"dataframe\">\n",
       "  <thead>\n",
       "    <tr style=\"text-align: right;\">\n",
       "      <th></th>\n",
       "      <th>Gender</th>\n",
       "      <th>Smoking_Status</th>\n",
       "      <th>Hepatitis_B_Status</th>\n",
       "      <th>Hepatitis_C_Status</th>\n",
       "      <th>Diabetes</th>\n",
       "      <th>Rural_or_Urban</th>\n",
       "      <th>Herbal_Medicine_Use</th>\n",
       "      <th>Screening_Availability</th>\n",
       "      <th>Treatment_Availability</th>\n",
       "      <th>Liver_Transplant_Access</th>\n",
       "      <th>Ethnicity</th>\n",
       "      <th>Preventive_Care</th>\n",
       "    </tr>\n",
       "  </thead>\n",
       "  <tbody>\n",
       "    <tr>\n",
       "      <th>0</th>\n",
       "      <td>Male</td>\n",
       "      <td>Smoker</td>\n",
       "      <td>Negative</td>\n",
       "      <td>Negative</td>\n",
       "      <td>No</td>\n",
       "      <td>Rural</td>\n",
       "      <td>No</td>\n",
       "      <td>Available</td>\n",
       "      <td>Available</td>\n",
       "      <td>No</td>\n",
       "      <td>Hispanic</td>\n",
       "      <td>Good</td>\n",
       "    </tr>\n",
       "    <tr>\n",
       "      <th>1</th>\n",
       "      <td>Female</td>\n",
       "      <td>Smoker</td>\n",
       "      <td>Negative</td>\n",
       "      <td>Negative</td>\n",
       "      <td>Yes</td>\n",
       "      <td>Rural</td>\n",
       "      <td>Yes</td>\n",
       "      <td>Not Available</td>\n",
       "      <td>Available</td>\n",
       "      <td>No</td>\n",
       "      <td>African</td>\n",
       "      <td>Moderate</td>\n",
       "    </tr>\n",
       "    <tr>\n",
       "      <th>2</th>\n",
       "      <td>Female</td>\n",
       "      <td>Smoker</td>\n",
       "      <td>Positive</td>\n",
       "      <td>Positive</td>\n",
       "      <td>No</td>\n",
       "      <td>Rural</td>\n",
       "      <td>Yes</td>\n",
       "      <td>Not Available</td>\n",
       "      <td>Not Available</td>\n",
       "      <td>No</td>\n",
       "      <td>Hispanic</td>\n",
       "      <td>Moderate</td>\n",
       "    </tr>\n",
       "    <tr>\n",
       "      <th>3</th>\n",
       "      <td>Male</td>\n",
       "      <td>Non-Smoker</td>\n",
       "      <td>Negative</td>\n",
       "      <td>Negative</td>\n",
       "      <td>Yes</td>\n",
       "      <td>Urban</td>\n",
       "      <td>Yes</td>\n",
       "      <td>Available</td>\n",
       "      <td>Available</td>\n",
       "      <td>No</td>\n",
       "      <td>Asian</td>\n",
       "      <td>Moderate</td>\n",
       "    </tr>\n",
       "    <tr>\n",
       "      <th>4</th>\n",
       "      <td>Female</td>\n",
       "      <td>Non-Smoker</td>\n",
       "      <td>Negative</td>\n",
       "      <td>Positive</td>\n",
       "      <td>Yes</td>\n",
       "      <td>Rural</td>\n",
       "      <td>No</td>\n",
       "      <td>Not Available</td>\n",
       "      <td>Available</td>\n",
       "      <td>No</td>\n",
       "      <td>Asian</td>\n",
       "      <td>Moderate</td>\n",
       "    </tr>\n",
       "  </tbody>\n",
       "</table>\n",
       "</div>"
      ],
      "text/plain": [
       "   Gender Smoking_Status Hepatitis_B_Status Hepatitis_C_Status Diabetes  \\\n",
       "0    Male         Smoker           Negative           Negative       No   \n",
       "1  Female         Smoker           Negative           Negative      Yes   \n",
       "2  Female         Smoker           Positive           Positive       No   \n",
       "3    Male     Non-Smoker           Negative           Negative      Yes   \n",
       "4  Female     Non-Smoker           Negative           Positive      Yes   \n",
       "\n",
       "  Rural_or_Urban Herbal_Medicine_Use Screening_Availability  \\\n",
       "0          Rural                  No              Available   \n",
       "1          Rural                 Yes          Not Available   \n",
       "2          Rural                 Yes          Not Available   \n",
       "3          Urban                 Yes              Available   \n",
       "4          Rural                  No          Not Available   \n",
       "\n",
       "  Treatment_Availability Liver_Transplant_Access Ethnicity Preventive_Care  \n",
       "0              Available                      No  Hispanic            Good  \n",
       "1              Available                      No   African        Moderate  \n",
       "2          Not Available                      No  Hispanic        Moderate  \n",
       "3              Available                      No     Asian        Moderate  \n",
       "4              Available                      No     Asian        Moderate  "
      ]
     },
     "execution_count": 17,
     "metadata": {},
     "output_type": "execute_result"
    }
   ],
   "source": [
    "df_cat.head()"
   ]
  },
  {
   "cell_type": "code",
   "execution_count": 18,
   "id": "575649dc",
   "metadata": {
    "execution": {
     "iopub.execute_input": "2025-03-11T18:55:18.720081Z",
     "iopub.status.busy": "2025-03-11T18:55:18.719801Z",
     "iopub.status.idle": "2025-03-11T18:55:18.839713Z",
     "shell.execute_reply": "2025-03-11T18:55:18.838627Z"
    },
    "papermill": {
     "duration": 0.128097,
     "end_time": "2025-03-11T18:55:18.841267",
     "exception": false,
     "start_time": "2025-03-11T18:55:18.713170",
     "status": "completed"
    },
    "tags": []
   },
   "outputs": [],
   "source": [
    "# Let's add the categorical features onto the columns of the dataset\n",
    "for col in df_cat:\n",
    "    df_cat[col]=le.fit_transform(df_cat[col])"
   ]
  },
  {
   "cell_type": "code",
   "execution_count": 19,
   "id": "8dba791e",
   "metadata": {
    "execution": {
     "iopub.execute_input": "2025-03-11T18:55:18.854729Z",
     "iopub.status.busy": "2025-03-11T18:55:18.854415Z",
     "iopub.status.idle": "2025-03-11T18:55:18.878507Z",
     "shell.execute_reply": "2025-03-11T18:55:18.877629Z"
    },
    "papermill": {
     "duration": 0.031938,
     "end_time": "2025-03-11T18:55:18.879779",
     "exception": false,
     "start_time": "2025-03-11T18:55:18.847841",
     "status": "completed"
    },
    "tags": []
   },
   "outputs": [
    {
     "data": {
      "text/html": [
       "<div>\n",
       "<style scoped>\n",
       "    .dataframe tbody tr th:only-of-type {\n",
       "        vertical-align: middle;\n",
       "    }\n",
       "\n",
       "    .dataframe tbody tr th {\n",
       "        vertical-align: top;\n",
       "    }\n",
       "\n",
       "    .dataframe thead th {\n",
       "        text-align: right;\n",
       "    }\n",
       "</style>\n",
       "<table border=\"1\" class=\"dataframe\">\n",
       "  <thead>\n",
       "    <tr style=\"text-align: right;\">\n",
       "      <th></th>\n",
       "      <th>Gender</th>\n",
       "      <th>Smoking_Status</th>\n",
       "      <th>Hepatitis_B_Status</th>\n",
       "      <th>Hepatitis_C_Status</th>\n",
       "      <th>Diabetes</th>\n",
       "      <th>Rural_or_Urban</th>\n",
       "      <th>Herbal_Medicine_Use</th>\n",
       "      <th>Screening_Availability</th>\n",
       "      <th>Treatment_Availability</th>\n",
       "      <th>Liver_Transplant_Access</th>\n",
       "      <th>...</th>\n",
       "      <th>Population</th>\n",
       "      <th>Incidence_Rate</th>\n",
       "      <th>Mortality_Rate</th>\n",
       "      <th>Age</th>\n",
       "      <th>Alcohol_Consumption</th>\n",
       "      <th>Obesity</th>\n",
       "      <th>Seafood_Consumption</th>\n",
       "      <th>Healthcare_Access</th>\n",
       "      <th>Survival_Rate</th>\n",
       "      <th>Cost_of_Treatment</th>\n",
       "    </tr>\n",
       "  </thead>\n",
       "  <tbody>\n",
       "    <tr>\n",
       "      <th>0</th>\n",
       "      <td>1</td>\n",
       "      <td>1</td>\n",
       "      <td>0</td>\n",
       "      <td>0</td>\n",
       "      <td>0</td>\n",
       "      <td>0</td>\n",
       "      <td>0</td>\n",
       "      <td>0</td>\n",
       "      <td>0</td>\n",
       "      <td>0</td>\n",
       "      <td>...</td>\n",
       "      <td>340672131</td>\n",
       "      <td>15.381360</td>\n",
       "      <td>6.160480</td>\n",
       "      <td>81</td>\n",
       "      <td>1.0</td>\n",
       "      <td>0.0</td>\n",
       "      <td>2.0</td>\n",
       "      <td>2.0</td>\n",
       "      <td>17.724793</td>\n",
       "      <td>47486.167423</td>\n",
       "    </tr>\n",
       "    <tr>\n",
       "      <th>1</th>\n",
       "      <td>0</td>\n",
       "      <td>1</td>\n",
       "      <td>0</td>\n",
       "      <td>0</td>\n",
       "      <td>1</td>\n",
       "      <td>0</td>\n",
       "      <td>1</td>\n",
       "      <td>1</td>\n",
       "      <td>0</td>\n",
       "      <td>0</td>\n",
       "      <td>...</td>\n",
       "      <td>199661331</td>\n",
       "      <td>2.558179</td>\n",
       "      <td>2.853576</td>\n",
       "      <td>26</td>\n",
       "      <td>0.0</td>\n",
       "      <td>1.0</td>\n",
       "      <td>2.0</td>\n",
       "      <td>0.0</td>\n",
       "      <td>70.343535</td>\n",
       "      <td>22372.868376</td>\n",
       "    </tr>\n",
       "    <tr>\n",
       "      <th>2</th>\n",
       "      <td>0</td>\n",
       "      <td>1</td>\n",
       "      <td>1</td>\n",
       "      <td>1</td>\n",
       "      <td>0</td>\n",
       "      <td>0</td>\n",
       "      <td>1</td>\n",
       "      <td>1</td>\n",
       "      <td>1</td>\n",
       "      <td>0</td>\n",
       "      <td>...</td>\n",
       "      <td>250747461</td>\n",
       "      <td>2.306748</td>\n",
       "      <td>1.979092</td>\n",
       "      <td>51</td>\n",
       "      <td>2.0</td>\n",
       "      <td>2.0</td>\n",
       "      <td>2.0</td>\n",
       "      <td>0.0</td>\n",
       "      <td>31.998948</td>\n",
       "      <td>34678.734550</td>\n",
       "    </tr>\n",
       "    <tr>\n",
       "      <th>3</th>\n",
       "      <td>1</td>\n",
       "      <td>0</td>\n",
       "      <td>0</td>\n",
       "      <td>0</td>\n",
       "      <td>1</td>\n",
       "      <td>1</td>\n",
       "      <td>1</td>\n",
       "      <td>0</td>\n",
       "      <td>0</td>\n",
       "      <td>0</td>\n",
       "      <td>...</td>\n",
       "      <td>1064536069</td>\n",
       "      <td>27.817193</td>\n",
       "      <td>3.956064</td>\n",
       "      <td>24</td>\n",
       "      <td>2.0</td>\n",
       "      <td>3.0</td>\n",
       "      <td>1.0</td>\n",
       "      <td>1.0</td>\n",
       "      <td>17.351788</td>\n",
       "      <td>33694.359070</td>\n",
       "    </tr>\n",
       "    <tr>\n",
       "      <th>4</th>\n",
       "      <td>0</td>\n",
       "      <td>0</td>\n",
       "      <td>0</td>\n",
       "      <td>1</td>\n",
       "      <td>1</td>\n",
       "      <td>0</td>\n",
       "      <td>0</td>\n",
       "      <td>1</td>\n",
       "      <td>0</td>\n",
       "      <td>0</td>\n",
       "      <td>...</td>\n",
       "      <td>13915613</td>\n",
       "      <td>4.843548</td>\n",
       "      <td>22.344428</td>\n",
       "      <td>73</td>\n",
       "      <td>1.0</td>\n",
       "      <td>2.0</td>\n",
       "      <td>2.0</td>\n",
       "      <td>0.0</td>\n",
       "      <td>38.051629</td>\n",
       "      <td>6036.999043</td>\n",
       "    </tr>\n",
       "  </tbody>\n",
       "</table>\n",
       "<p>5 rows × 24 columns</p>\n",
       "</div>"
      ],
      "text/plain": [
       "   Gender  Smoking_Status  Hepatitis_B_Status  Hepatitis_C_Status  Diabetes  \\\n",
       "0       1               1                   0                   0         0   \n",
       "1       0               1                   0                   0         1   \n",
       "2       0               1                   1                   1         0   \n",
       "3       1               0                   0                   0         1   \n",
       "4       0               0                   0                   1         1   \n",
       "\n",
       "   Rural_or_Urban  Herbal_Medicine_Use  Screening_Availability  \\\n",
       "0               0                    0                       0   \n",
       "1               0                    1                       1   \n",
       "2               0                    1                       1   \n",
       "3               1                    1                       0   \n",
       "4               0                    0                       1   \n",
       "\n",
       "   Treatment_Availability  Liver_Transplant_Access  ...  Population  \\\n",
       "0                       0                        0  ...   340672131   \n",
       "1                       0                        0  ...   199661331   \n",
       "2                       1                        0  ...   250747461   \n",
       "3                       0                        0  ...  1064536069   \n",
       "4                       0                        0  ...    13915613   \n",
       "\n",
       "   Incidence_Rate  Mortality_Rate  Age  Alcohol_Consumption  Obesity  \\\n",
       "0       15.381360        6.160480   81                  1.0      0.0   \n",
       "1        2.558179        2.853576   26                  0.0      1.0   \n",
       "2        2.306748        1.979092   51                  2.0      2.0   \n",
       "3       27.817193        3.956064   24                  2.0      3.0   \n",
       "4        4.843548       22.344428   73                  1.0      2.0   \n",
       "\n",
       "   Seafood_Consumption  Healthcare_Access  Survival_Rate  Cost_of_Treatment  \n",
       "0                  2.0                2.0      17.724793       47486.167423  \n",
       "1                  2.0                0.0      70.343535       22372.868376  \n",
       "2                  2.0                0.0      31.998948       34678.734550  \n",
       "3                  1.0                1.0      17.351788       33694.359070  \n",
       "4                  2.0                0.0      38.051629        6036.999043  \n",
       "\n",
       "[5 rows x 24 columns]"
      ]
     },
     "execution_count": 19,
     "metadata": {},
     "output_type": "execute_result"
    }
   ],
   "source": [
    "# Now let's concatenate the numerical and categorical features as one inside the X variable\n",
    "X = pd.concat([df_cat,df_num],axis=1)\n",
    "X.head()"
   ]
  },
  {
   "cell_type": "markdown",
   "id": "7020bbd4",
   "metadata": {
    "papermill": {
     "duration": 0.005579,
     "end_time": "2025-03-11T18:55:18.891685",
     "exception": false,
     "start_time": "2025-03-11T18:55:18.886106",
     "status": "completed"
    },
    "tags": []
   },
   "source": [
    "# Train and testing data split\n",
    "Now let's seperate the train and test data and initialize the Logistic Regression model"
   ]
  },
  {
   "cell_type": "code",
   "execution_count": 20,
   "id": "d40a907e",
   "metadata": {
    "execution": {
     "iopub.execute_input": "2025-03-11T18:55:18.904456Z",
     "iopub.status.busy": "2025-03-11T18:55:18.904139Z",
     "iopub.status.idle": "2025-03-11T18:55:18.928555Z",
     "shell.execute_reply": "2025-03-11T18:55:18.927689Z"
    },
    "papermill": {
     "duration": 0.032553,
     "end_time": "2025-03-11T18:55:18.930120",
     "exception": false,
     "start_time": "2025-03-11T18:55:18.897567",
     "status": "completed"
    },
    "tags": []
   },
   "outputs": [],
   "source": [
    "X_train, X_test, y_train, y_test = train_test_split(X,y,test_size=0.2,random_state=42)"
   ]
  },
  {
   "cell_type": "code",
   "execution_count": 21,
   "id": "6719253f",
   "metadata": {
    "execution": {
     "iopub.execute_input": "2025-03-11T18:55:18.943615Z",
     "iopub.status.busy": "2025-03-11T18:55:18.943317Z",
     "iopub.status.idle": "2025-03-11T18:55:21.262599Z",
     "shell.execute_reply": "2025-03-11T18:55:21.261783Z"
    },
    "papermill": {
     "duration": 2.327276,
     "end_time": "2025-03-11T18:55:21.263803",
     "exception": false,
     "start_time": "2025-03-11T18:55:18.936527",
     "status": "completed"
    },
    "tags": []
   },
   "outputs": [
    {
     "data": {
      "text/html": [
       "<style>#sk-container-id-1 {color: black;background-color: white;}#sk-container-id-1 pre{padding: 0;}#sk-container-id-1 div.sk-toggleable {background-color: white;}#sk-container-id-1 label.sk-toggleable__label {cursor: pointer;display: block;width: 100%;margin-bottom: 0;padding: 0.3em;box-sizing: border-box;text-align: center;}#sk-container-id-1 label.sk-toggleable__label-arrow:before {content: \"▸\";float: left;margin-right: 0.25em;color: #696969;}#sk-container-id-1 label.sk-toggleable__label-arrow:hover:before {color: black;}#sk-container-id-1 div.sk-estimator:hover label.sk-toggleable__label-arrow:before {color: black;}#sk-container-id-1 div.sk-toggleable__content {max-height: 0;max-width: 0;overflow: hidden;text-align: left;background-color: #f0f8ff;}#sk-container-id-1 div.sk-toggleable__content pre {margin: 0.2em;color: black;border-radius: 0.25em;background-color: #f0f8ff;}#sk-container-id-1 input.sk-toggleable__control:checked~div.sk-toggleable__content {max-height: 200px;max-width: 100%;overflow: auto;}#sk-container-id-1 input.sk-toggleable__control:checked~label.sk-toggleable__label-arrow:before {content: \"▾\";}#sk-container-id-1 div.sk-estimator input.sk-toggleable__control:checked~label.sk-toggleable__label {background-color: #d4ebff;}#sk-container-id-1 div.sk-label input.sk-toggleable__control:checked~label.sk-toggleable__label {background-color: #d4ebff;}#sk-container-id-1 input.sk-hidden--visually {border: 0;clip: rect(1px 1px 1px 1px);clip: rect(1px, 1px, 1px, 1px);height: 1px;margin: -1px;overflow: hidden;padding: 0;position: absolute;width: 1px;}#sk-container-id-1 div.sk-estimator {font-family: monospace;background-color: #f0f8ff;border: 1px dotted black;border-radius: 0.25em;box-sizing: border-box;margin-bottom: 0.5em;}#sk-container-id-1 div.sk-estimator:hover {background-color: #d4ebff;}#sk-container-id-1 div.sk-parallel-item::after {content: \"\";width: 100%;border-bottom: 1px solid gray;flex-grow: 1;}#sk-container-id-1 div.sk-label:hover label.sk-toggleable__label {background-color: #d4ebff;}#sk-container-id-1 div.sk-serial::before {content: \"\";position: absolute;border-left: 1px solid gray;box-sizing: border-box;top: 0;bottom: 0;left: 50%;z-index: 0;}#sk-container-id-1 div.sk-serial {display: flex;flex-direction: column;align-items: center;background-color: white;padding-right: 0.2em;padding-left: 0.2em;position: relative;}#sk-container-id-1 div.sk-item {position: relative;z-index: 1;}#sk-container-id-1 div.sk-parallel {display: flex;align-items: stretch;justify-content: center;background-color: white;position: relative;}#sk-container-id-1 div.sk-item::before, #sk-container-id-1 div.sk-parallel-item::before {content: \"\";position: absolute;border-left: 1px solid gray;box-sizing: border-box;top: 0;bottom: 0;left: 50%;z-index: -1;}#sk-container-id-1 div.sk-parallel-item {display: flex;flex-direction: column;z-index: 1;position: relative;background-color: white;}#sk-container-id-1 div.sk-parallel-item:first-child::after {align-self: flex-end;width: 50%;}#sk-container-id-1 div.sk-parallel-item:last-child::after {align-self: flex-start;width: 50%;}#sk-container-id-1 div.sk-parallel-item:only-child::after {width: 0;}#sk-container-id-1 div.sk-dashed-wrapped {border: 1px dashed gray;margin: 0 0.4em 0.5em 0.4em;box-sizing: border-box;padding-bottom: 0.4em;background-color: white;}#sk-container-id-1 div.sk-label label {font-family: monospace;font-weight: bold;display: inline-block;line-height: 1.2em;}#sk-container-id-1 div.sk-label-container {text-align: center;}#sk-container-id-1 div.sk-container {/* jupyter's `normalize.less` sets `[hidden] { display: none; }` but bootstrap.min.css set `[hidden] { display: none !important; }` so we also need the `!important` here to be able to override the default hidden behavior on the sphinx rendered scikit-learn.org. See: https://github.com/scikit-learn/scikit-learn/issues/21755 */display: inline-block !important;position: relative;}#sk-container-id-1 div.sk-text-repr-fallback {display: none;}</style><div id=\"sk-container-id-1\" class=\"sk-top-container\"><div class=\"sk-text-repr-fallback\"><pre>DecisionTreeClassifier(class_weight=&#x27;balanced&#x27;, random_state=42)</pre><b>In a Jupyter environment, please rerun this cell to show the HTML representation or trust the notebook. <br />On GitHub, the HTML representation is unable to render, please try loading this page with nbviewer.org.</b></div><div class=\"sk-container\" hidden><div class=\"sk-item\"><div class=\"sk-estimator sk-toggleable\"><input class=\"sk-toggleable__control sk-hidden--visually\" id=\"sk-estimator-id-1\" type=\"checkbox\" checked><label for=\"sk-estimator-id-1\" class=\"sk-toggleable__label sk-toggleable__label-arrow\">DecisionTreeClassifier</label><div class=\"sk-toggleable__content\"><pre>DecisionTreeClassifier(class_weight=&#x27;balanced&#x27;, random_state=42)</pre></div></div></div></div></div>"
      ],
      "text/plain": [
       "DecisionTreeClassifier(class_weight='balanced', random_state=42)"
      ]
     },
     "execution_count": 21,
     "metadata": {},
     "output_type": "execute_result"
    }
   ],
   "source": [
    "model = DecisionTreeClassifier(random_state=42,class_weight='balanced')\n",
    "model.fit(X_train, y_train)"
   ]
  },
  {
   "cell_type": "code",
   "execution_count": 22,
   "id": "44a9c4ab",
   "metadata": {
    "execution": {
     "iopub.execute_input": "2025-03-11T18:55:21.277134Z",
     "iopub.status.busy": "2025-03-11T18:55:21.276852Z",
     "iopub.status.idle": "2025-03-11T18:55:21.286446Z",
     "shell.execute_reply": "2025-03-11T18:55:21.285666Z"
    },
    "papermill": {
     "duration": 0.017717,
     "end_time": "2025-03-11T18:55:21.287799",
     "exception": false,
     "start_time": "2025-03-11T18:55:21.270082",
     "status": "completed"
    },
    "tags": []
   },
   "outputs": [],
   "source": [
    "# With the Logistic Regression model initialized now we only need to create the prediction with the test variables\n",
    "y_pred = model.predict(X_test)"
   ]
  },
  {
   "cell_type": "code",
   "execution_count": 23,
   "id": "dc873e09",
   "metadata": {
    "execution": {
     "iopub.execute_input": "2025-03-11T18:55:21.302082Z",
     "iopub.status.busy": "2025-03-11T18:55:21.301814Z",
     "iopub.status.idle": "2025-03-11T18:55:21.331482Z",
     "shell.execute_reply": "2025-03-11T18:55:21.330641Z"
    },
    "papermill": {
     "duration": 0.038499,
     "end_time": "2025-03-11T18:55:21.333107",
     "exception": false,
     "start_time": "2025-03-11T18:55:21.294608",
     "status": "completed"
    },
    "tags": []
   },
   "outputs": [],
   "source": [
    "# Now that we have the predicted model ready, we just need to evaluate the model\n",
    "accuracy = accuracy_score(y_test, y_pred)\n",
    "conf_matrix = confusion_matrix(y_test, y_pred)\n",
    "class_report = classification_report(y_test, y_pred)"
   ]
  },
  {
   "cell_type": "code",
   "execution_count": 24,
   "id": "236aa4ef",
   "metadata": {
    "execution": {
     "iopub.execute_input": "2025-03-11T18:55:21.347313Z",
     "iopub.status.busy": "2025-03-11T18:55:21.347037Z",
     "iopub.status.idle": "2025-03-11T18:55:21.596834Z",
     "shell.execute_reply": "2025-03-11T18:55:21.595913Z"
    },
    "papermill": {
     "duration": 0.258164,
     "end_time": "2025-03-11T18:55:21.598049",
     "exception": false,
     "start_time": "2025-03-11T18:55:21.339885",
     "status": "completed"
    },
    "tags": []
   },
   "outputs": [
    {
     "data": {
      "image/png": "[encoded data removed]",
      "text/plain": [
       "<Figure size 600x500 with 2 Axes>"
      ]
     },
     "metadata": {},
     "output_type": "display_data"
    }
   ],
   "source": [
    "# Now let's create a confusion matrix graph\n",
    "plt.figure(figsize=(6, 5))\n",
    "sns.heatmap(conf_matrix, annot=True, fmt=\"d\", cmap=\"Blues\", xticklabels=[\"No\", \"Yes\"], yticklabels=[\"No\", \"Yes\"])\n",
    "plt.xlabel(\"Prediction\")\n",
    "plt.ylabel(\"Real\")\n",
    "plt.title(f\"Confusion Matrix - Accuracy: {accuracy:.2f}\")\n",
    "plt.show()"
   ]
  },
  {
   "cell_type": "code",
   "execution_count": 25,
   "id": "b86edecb",
   "metadata": {
    "execution": {
     "iopub.execute_input": "2025-03-11T18:55:21.612399Z",
     "iopub.status.busy": "2025-03-11T18:55:21.612125Z",
     "iopub.status.idle": "2025-03-11T18:55:21.616418Z",
     "shell.execute_reply": "2025-03-11T18:55:21.615371Z"
    },
    "papermill": {
     "duration": 0.012718,
     "end_time": "2025-03-11T18:55:21.617614",
     "exception": false,
     "start_time": "2025-03-11T18:55:21.604896",
     "status": "completed"
    },
    "tags": []
   },
   "outputs": [
    {
     "name": "stdout",
     "output_type": "stream",
     "text": [
      "              precision    recall  f1-score   support\n",
      "\n",
      "           0       0.51      0.52      0.51      8026\n",
      "           1       0.51      0.50      0.51      7983\n",
      "\n",
      "    accuracy                           0.51     16009\n",
      "   macro avg       0.51      0.51      0.51     16009\n",
      "weighted avg       0.51      0.51      0.51     16009\n",
      "\n"
     ]
    }
   ],
   "source": [
    "print(class_report)"
   ]
  },
  {
   "cell_type": "markdown",
   "id": "ade95de8",
   "metadata": {
    "papermill": {
     "duration": 0.006146,
     "end_time": "2025-03-11T18:55:21.630487",
     "exception": false,
     "start_time": "2025-03-11T18:55:21.624341",
     "status": "completed"
    },
    "tags": []
   },
   "source": [
    "# Most Important Features"
   ]
  },
  {
   "cell_type": "code",
   "execution_count": 26,
   "id": "4be89def",
   "metadata": {
    "execution": {
     "iopub.execute_input": "2025-03-11T18:55:21.644695Z",
     "iopub.status.busy": "2025-03-11T18:55:21.644430Z",
     "iopub.status.idle": "2025-03-11T18:55:21.984170Z",
     "shell.execute_reply": "2025-03-11T18:55:21.983147Z"
    },
    "papermill": {
     "duration": 0.3486,
     "end_time": "2025-03-11T18:55:21.985602",
     "exception": false,
     "start_time": "2025-03-11T18:55:21.637002",
     "status": "completed"
    },
    "tags": []
   },
   "outputs": [
    {
     "data": {
      "image/png": "[encoded data removed]",
      "text/plain": [
       "<Figure size 1000x600 with 1 Axes>"
      ]
     },
     "metadata": {},
     "output_type": "display_data"
    }
   ],
   "source": [
    "feature_importance = model.feature_importances_\n",
    "features = X.columns\n",
    "\n",
    "plt.figure(figsize=(10, 6))\n",
    "sns.barplot(x=feature_importance, y=features)\n",
    "plt.title('Feature Importance')\n",
    "plt.show()"
   ]
  },
  {
   "cell_type": "code",
   "execution_count": null,
   "id": "5f69d14b",
   "metadata": {
    "papermill": {
     "duration": 0.007315,
     "end_time": "2025-03-11T18:55:22.001214",
     "exception": false,
     "start_time": "2025-03-11T18:55:21.993899",
     "status": "completed"
    },
    "tags": []
   },
   "outputs": [],
   "source": []
  }
 ],
 "metadata": {
  "kaggle": {
   "accelerator": "none",
   "dataSources": [
    {
     "datasetId": 6623429,
     "sourceId": 10689865,
     "sourceType": "datasetVersion"
    }
   ],
   "dockerImageVersionId": 30918,
   "isGpuEnabled": false,
   "isInternetEnabled": true,
   "language": "python",
   "sourceType": "notebook"
  },
  "kernelspec": {
   "display_name": "Python 3",
   "language": "python",
   "name": "python3"
  },
  "language_info": {
   "codemirror_mode": {
    "name": "ipython",
    "version": 3
   },
   "file_extension": ".py",
   "mimetype": "text/x-python",
   "name": "python",
   "nbconvert_exporter": "python",
   "pygments_lexer": "ipython3",
   "version": "3.10.12"
  },
  "papermill": {
   "default_parameters": {},
   "duration": 11.76409,
   "end_time": "2025-03-11T18:55:22.627313",
   "environment_variables": {},
   "exception": null,
   "input_path": "__notebook__.ipynb",
   "output_path": "__notebook__.ipynb",
   "parameters": {},
   "start_time": "2025-03-11T18:55:10.863223",
   "version": "2.6.0"
  }
 },
 "nbformat": 4,
 "nbformat_minor": 5
}
